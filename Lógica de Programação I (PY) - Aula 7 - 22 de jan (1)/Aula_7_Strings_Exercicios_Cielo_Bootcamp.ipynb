{
  "cells": [
    {
      "cell_type": "markdown",
      "metadata": {},
      "source": [
        "## Problema <a class=\"anchor\" id=\"zero\"></a>\n",
        "\n",
        "\n",
        "Você está desenvolvendo uma ferramenta de moderação de conteúdo para um Marketplace. O objetivo é criar um programa em Python que processe o texto do anúncio do usuário para torná-lo mais adequado para exibição pública, preservando a privacidade. Implemente as seguintes tarefas:\n",
        "\n",
        "**Filtro de Palavrões**: Substitua palavrões no texto por '*'. O número de asteriscos deve ser igual ao tamanho de cada palavra. Use uma lista de palavras impróprias.\n",
        "\n",
        "**Máscara de Informações Sensíveis**:  Detecte e mascare informações sensíveis, como endereços de e-mail. Assuma que os endereços de e-mail seguem o formato típico, como usuario@exemplo.com. Utilize a máscara [email], considerando que cada anúncio possui apenas um e-mail.\n",
        "\n",
        "**Contagem de Palavras e Resumo**:  Forneça um resumo exibindo a contagem de palavras e as cinco primeiras palavras do texto processado.\n",
        "\n",
        "Este cenário reflete um contexto real, pois a moderação de conteúdo é essencial em plataformas online para garantir um ambiente seguro e respeitoso para os usuários. Seu programa Python simulará parte desse processo de moderação."
      ]
    },
    {
      "cell_type": "markdown",
      "metadata": {},
      "source": [
        "Resolucao "
      ]
    },
    {
      "cell_type": "code",
      "execution_count": null,
      "metadata": {},
      "outputs": [],
      "source": [
        "anuncio = \"\"\"Esta é a bolsa perfeita para você, espaçosa e elegante. \n",
        "Se nao voce nao quer parecer uma palavrao1 por ai, compre agora! \n",
        "Essa bolsa é a melhor, se nao acreditou vai se palavrao3.\n",
        "E se nao quiser comprar va tomar no palavrao2!\n",
        "Entre em contato pelo e-mail: bocasuja@compreagora.com\"\"\""
      ]
    },
    {
      "cell_type": "markdown",
      "metadata": {},
      "source": [
        "## Exercicios <a class=\"anchor\" id=\"cinco\"></a>\n",
        "<br>"
      ]
    },
    {
      "cell_type": "markdown",
      "metadata": {},
      "source": [
        "1) Escreva um programa Python para contar o número de caracteres (frequência de caracteres) em uma string. Por exemplo, para a string \"Linguagem de programação\" devera retornar:\n",
        "```\n",
        "L: 1\n",
        "i: 1\n",
        "n: 1\n",
        "g: 3\n",
        "u: 1\n",
        "a: 3\n",
        "e: 2\n",
        "m: 2\n",
        " : 2\n",
        "d: 1\n",
        "p: 1\n",
        "r: 2\n",
        "o: 2\n",
        "ç: 1\n",
        "ã: 1\n",
        "```"
      ]
    },
    {
      "cell_type": "code",
      "execution_count": null,
      "metadata": {},
      "outputs": [],
      "source": [
        "def contaCaracteres(frase):\n",
        "  frequencia = {}\n",
        " \n",
        "  for caracter in frase:\n",
        "    if caracter not in frequencia:\n",
        "        frequencia[caracter] = 1\n",
        "    elif caracter in frequencia:\n",
        "      frequencia[caracter] += 1\n",
        "  for caracter in frequencia:\n",
        "    print(caracter, frequencia[caracter])\n",
        "\n",
        "contaCaracteres(\"Linguagem de programação\")\n"
      ]
    },
    {
      "cell_type": "code",
      "execution_count": null,
      "metadata": {
        "id": "_n1bEfwfVxXj"
      },
      "outputs": [],
      "source": [
        "\n",
        "     "
      ]
    },
    {
      "cell_type": "markdown",
      "metadata": {},
      "source": [
        "2) Escreva um programa Python para obter uma string formada pelos 2 primeiros e 2 últimos caracteres de uma determinada string.\n",
        "Por exemplo: ‘Casaco’. Resultado: ‘Caco’.\n",
        "Se o comprimento da string for menor que 2, retorne a string vazia."
      ]
    },
    {
      "cell_type": "code",
      "execution_count": null,
      "metadata": {},
      "outputs": [],
      "source": [
        "def redutor_de_string(string):\n",
        "  if len(string) < 2:\n",
        "    return \"\"\n",
        "  else: return string[:2] + string[-2:]\n",
        "\n",
        "print(redutor_de_string(\"w3resource\"))\n",
        "print(redutor_de_string(\"ana\"))"
      ]
    },
    {
      "cell_type": "markdown",
      "metadata": {},
      "source": [
        "3) Organize os caracteres da string de forma que as letras minúsculas venham primeiro. Por exemplo: ‘Rio de Janeiro’. Resultado esperado: ‘iodeaneiroRJ’."
      ]
    },
    {
      "cell_type": "code",
      "execution_count": null,
      "metadata": {},
      "outputs": [],
      "source": [
        "\n",
        "def letras_Maiore_ultimo(string):\n",
        "    letras_maiusculas = \"\"\n",
        "    letras_minusculas = \"\"\n",
        "\n",
        "    string_sem_espaços = string.replace(\" \", \"\")\n",
        "\n",
        "    for letra in string_sem_espaços:\n",
        "        if letra.isupper():\n",
        "            letras_maiusculas += letra\n",
        "        else:\n",
        "            letras_minusculas += letra\n",
        "\n",
        "    final= letras_minusculas+letras_maiusculas\n",
        "    return final\n",
        "\n",
        "print(letras_Maiore_ultimo('Rio de Janeiro'))\n"
      ]
    },
    {
      "cell_type": "markdown",
      "metadata": {},
      "source": [
        "4) Conte todas as letras, dígitos e símbolos especiais de uma determinada string. Por exemplo: “D@&3t@R%^o4m@’.\n",
        "Resultado esperado:\n",
        "• Caracteres: 5;\n",
        "• Dígitos: 2;\n",
        "• Símbolo: 6."
      ]
    },
    {
      "cell_type": "code",
      "execution_count": null,
      "metadata": {},
      "outputs": [],
      "source": [
        "def contar_caracteres(string):\n",
        "    caracteres = 0\n",
        "    digitos = 0\n",
        "    simbolos = 0\n",
        "    for caracter in string:\n",
        "        if caracter.isalpha():\n",
        "            caracteres += 1\n",
        "        elif caracter.isdigit():\n",
        "            digitos += 1\n",
        "        else:\n",
        "            simbolos += 1\n",
        "    return f'Caracteres: {caracteres}\\nDígitos: {digitos}\\nSímbolos: {simbolos}'\n",
        "\n",
        "print(contar_caracteres('D@&3t@R%^o4m@'))"
      ]
    }
  ],
  "metadata": {
    "colab": {
      "provenance": []
    },
    "kernelspec": {
      "display_name": "base",
      "language": "python",
      "name": "python3"
    },
    "language_info": {
      "codemirror_mode": {
        "name": "ipython",
        "version": 3
      },
      "file_extension": ".py",
      "mimetype": "text/x-python",
      "name": "python",
      "nbconvert_exporter": "python",
      "pygments_lexer": "ipython3",
      "version": "3.10.6"
    },
    "orig_nbformat": 4,
    "vscode": {
      "interpreter": {
        "hash": "a4e87b69e3c337c38d8515a97bf0af28745e48a010ebcda936e79a3b31d0811d"
      }
    }
  },
  "nbformat": 4,
  "nbformat_minor": 0
}
