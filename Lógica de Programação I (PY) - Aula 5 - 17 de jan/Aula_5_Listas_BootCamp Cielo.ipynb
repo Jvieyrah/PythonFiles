{
 "cells": [
  {
   "cell_type": "markdown",
   "metadata": {},
   "source": [
    "# Aula 5 - Listas e Listas de Listas\n",
    "\n",
    "Na aula de hoje, vamos explorar os seguintes tópicos em Python:\n",
    "\n",
    "- 1) Listas\n",
    "- 2) Funções de listas\n",
    "\n",
    "_________________\n",
    "\n",
    "### Objetivos\n",
    "\n",
    "Apresentar o conceito de lista, e as principais propriedades desta estrutura de dados; Depois, introduzir as principais funções aplicadas a listas."
   ]
  },
  {
   "cell_type": "markdown",
   "metadata": {},
   "source": [
    "## **PROBLEMÁTICA:**\n",
    "\n",
    "Você foi contratado para desenvolver um programa em Python que calcula a média de uma quantidade desconhecida de valores inseridos pelo usuário. O programa deve incluir a identificação do maior e do menor valor dentre as notas inseridas.\n",
    "\n",
    "____"
   ]
  },
  {
   "cell_type": "markdown",
   "metadata": {},
   "source": [
    "## 1) Listas\n",
    "\n",
    "Imagine que você quer armazenar várias variáveis relacionadas, como, por exemplo, todas suas notas em provas.\n",
    "\n",
    "Se houver muitas notas, não é muito prático criar uma variável para cada uma. Seria muito mais conveniente armazenar todas as notas em uma **lista**, não é mesmo? \n",
    "\n",
    "Em python, temos uma estrutura de dados que é exatamente isso: uma lista! Listas são indicadas por colchete []\n",
    "\n",
    "Uma lista nada mais é que um **conjunto de objetos**, que podem ser de diversos tipos:"
   ]
  },
  {
   "cell_type": "markdown",
   "metadata": {},
   "source": [
    "Lista de números (int e float)"
   ]
  },
  {
   "cell_type": "code",
   "execution_count": null,
   "metadata": {},
   "outputs": [],
   "source": []
  },
  {
   "cell_type": "code",
   "execution_count": null,
   "metadata": {},
   "outputs": [],
   "source": []
  },
  {
   "cell_type": "markdown",
   "metadata": {},
   "source": [
    "Lista de strings"
   ]
  },
  {
   "cell_type": "code",
   "execution_count": null,
   "metadata": {},
   "outputs": [],
   "source": []
  },
  {
   "cell_type": "code",
   "execution_count": null,
   "metadata": {},
   "outputs": [],
   "source": []
  },
  {
   "cell_type": "markdown",
   "metadata": {},
   "source": [
    "Lista de números e strings"
   ]
  },
  {
   "cell_type": "code",
   "execution_count": null,
   "metadata": {},
   "outputs": [],
   "source": []
  },
  {
   "cell_type": "markdown",
   "metadata": {},
   "source": [
    "Lista de listas"
   ]
  },
  {
   "cell_type": "code",
   "execution_count": null,
   "metadata": {},
   "outputs": [],
   "source": []
  },
  {
   "cell_type": "markdown",
   "metadata": {},
   "source": [
    "Tudo junto"
   ]
  },
  {
   "cell_type": "code",
   "execution_count": null,
   "metadata": {},
   "outputs": [],
   "source": []
  },
  {
   "cell_type": "markdown",
   "metadata": {},
   "source": [
    "Muitas vezes, queremos **acessar elementos individuais** da lista. \n",
    "\n",
    "Para fazer isso, devemos indicar qual é o **índice** respectivo ao elemento, isto é, qual é a **posição** do elemento dentro da lista\n",
    "\n",
    "Para acessar o elemento na **posição i** da lista \"minha_lista\", fazemos:\n",
    "\n",
    "```python\n",
    "minha_lista[i]\n",
    "```\n",
    "\n",
    "__MUITO IMPORTANTE: a numeração de índice começa em zero!__\n",
    "\n",
    "Ou seja:\n",
    "\n",
    "- O primeiro elemento tem índice 0: ```minha_lista[0]``` ,\n",
    "- O segundo tem índice 1: ```minha_lista[1]```,\n",
    "\n",
    "E assim por diante!\n",
    "\n",
    "Também podemos acessar os últimos elementos, usando índices negativos:\n",
    "\n",
    "- O último elemento tem índice -1: ```minha_lista[-1]```,\n",
    "- O penúltimo tem índice -2: ```minha_lista[-2]```,\n",
    "\n",
    "E assim por diante!"
   ]
  },
  {
   "cell_type": "code",
   "execution_count": null,
   "metadata": {},
   "outputs": [],
   "source": [
    "#Criar uma lista \n"
   ]
  },
  {
   "cell_type": "code",
   "execution_count": null,
   "metadata": {},
   "outputs": [],
   "source": [
    "#Ver o primeiro elemento da lista\n"
   ]
  },
  {
   "cell_type": "code",
   "execution_count": null,
   "metadata": {},
   "outputs": [],
   "source": [
    "#Ver o último elemento da lista\n"
   ]
  },
  {
   "cell_type": "code",
   "execution_count": null,
   "metadata": {},
   "outputs": [],
   "source": [
    "#Ver o penúltimo valor da lista\n"
   ]
  },
  {
   "cell_type": "code",
   "execution_count": null,
   "metadata": {},
   "outputs": [],
   "source": []
  },
  {
   "cell_type": "code",
   "execution_count": null,
   "metadata": {},
   "outputs": [],
   "source": []
  },
  {
   "cell_type": "markdown",
   "metadata": {},
   "source": [
    "Também podemos **acessar pedaços da lista**, indicando o intervalo de índices que queremos, separados por \":\",  **com intervalo superior aberto**:\n",
    "\n",
    "- ```minha_lista[1:3]```: seleciona os elementos de indice 1 até indice 2\n",
    "- ```minha_lista[:4]```: seleciona do primeiro elemento até o de índice 3\n",
    "- ```minha_lista[3:]```: seleciona do elemento de índice 3 até o final\n",
    "- ```minha_lista[:]```: seleciona a lista inteira\n",
    "\n",
    "Este conceito é chamado de \"slicing\" em Python, pois você está pegando \"fatias\" da lista!"
   ]
  },
  {
   "cell_type": "code",
   "execution_count": null,
   "metadata": {},
   "outputs": [],
   "source": []
  },
  {
   "cell_type": "code",
   "execution_count": null,
   "metadata": {},
   "outputs": [],
   "source": []
  },
  {
   "cell_type": "code",
   "execution_count": null,
   "metadata": {},
   "outputs": [],
   "source": []
  },
  {
   "cell_type": "code",
   "execution_count": null,
   "metadata": {},
   "outputs": [],
   "source": []
  },
  {
   "cell_type": "code",
   "execution_count": null,
   "metadata": {},
   "outputs": [],
   "source": []
  },
  {
   "cell_type": "code",
   "execution_count": null,
   "metadata": {},
   "outputs": [],
   "source": []
  },
  {
   "cell_type": "code",
   "execution_count": null,
   "metadata": {},
   "outputs": [],
   "source": []
  },
  {
   "cell_type": "code",
   "execution_count": null,
   "metadata": {},
   "outputs": [],
   "source": []
  },
  {
   "cell_type": "markdown",
   "metadata": {},
   "source": [
    "Podemos também fazer algumas **operações com listas**"
   ]
  },
  {
   "cell_type": "markdown",
   "metadata": {},
   "source": [
    "Soma de listas: ao **somar listas**, os elementos são **concatenados**, na ordem dada, para formar uma lista maior:"
   ]
  },
  {
   "cell_type": "code",
   "execution_count": null,
   "metadata": {},
   "outputs": [],
   "source": []
  },
  {
   "cell_type": "markdown",
   "metadata": {},
   "source": [
    "Ao **multiplicar listas por um inteiro**, os elementos são repetidos, na ordem que aparecem:"
   ]
  },
  {
   "cell_type": "code",
   "execution_count": null,
   "metadata": {},
   "outputs": [],
   "source": []
  },
  {
   "cell_type": "markdown",
   "metadata": {},
   "source": [
    "Se quisermos somar os elementos de duas listas, ou multiplicá-los por algum número, temos que usar um **laço**, como aprendemos na aula passada!"
   ]
  },
  {
   "cell_type": "markdown",
   "metadata": {},
   "source": [
    "É possível transformar strings em uma **lista de caracteres**:"
   ]
  },
  {
   "cell_type": "code",
   "execution_count": null,
   "metadata": {},
   "outputs": [],
   "source": [
    "\n",
    "\n",
    "#Transformar em lista\n"
   ]
  },
  {
   "cell_type": "markdown",
   "metadata": {},
   "source": [
    "__________\n",
    "__________\n",
    "__________"
   ]
  },
  {
   "cell_type": "markdown",
   "metadata": {},
   "source": [
    "## 2) Funções de listas"
   ]
  },
  {
   "cell_type": "code",
   "execution_count": null,
   "metadata": {},
   "outputs": [],
   "source": [
    "#Para saber o tamanho de uma lista\n"
   ]
  },
  {
   "cell_type": "markdown",
   "metadata": {},
   "source": [
    "Podemos começar com uma lista vazia, e preenchê-la aos poucos.\n",
    "\n",
    "Para **criar uma lista vazia**, fazemos:"
   ]
  },
  {
   "cell_type": "code",
   "execution_count": null,
   "metadata": {},
   "outputs": [],
   "source": [
    "# tanto faz o list() ou o []\n",
    "# lista_vazia = list()\n"
   ]
  },
  {
   "cell_type": "markdown",
   "metadata": {},
   "source": [
    "Para adicionar um elemento **ao fim da lista**, usamos a função \"append()\".\n",
    "\n",
    "**OBS.: só podemos apendar um único elemento por vez!**"
   ]
  },
  {
   "cell_type": "code",
   "execution_count": null,
   "metadata": {},
   "outputs": [],
   "source": [
    "# lista inicial\n"
   ]
  },
  {
   "cell_type": "markdown",
   "metadata": {},
   "source": [
    "Se você quiser adicionar um elemento numa **posição específica**, use a função \"insert()\", onde o primeiro argumento é a posição, e o segundo é o elemento:\n",
    "\n",
    "**OBS.: só podemos inserir um único elemento por vez!**"
   ]
  },
  {
   "cell_type": "code",
   "execution_count": null,
   "metadata": {},
   "outputs": [],
   "source": [
    "# inserindo um elemento na posição inicial\n"
   ]
  },
  {
   "cell_type": "markdown",
   "metadata": {},
   "source": [
    "Podemos, também, **redefinir um elemento da lista individualmente**. Para isso, basta selecionarmos este elemento, e redefiní-lo:"
   ]
  },
  {
   "cell_type": "code",
   "execution_count": null,
   "metadata": {},
   "outputs": [],
   "source": [
    "# redefinindo um elemento pela posicao\n"
   ]
  },
  {
   "cell_type": "code",
   "execution_count": null,
   "metadata": {},
   "outputs": [],
   "source": []
  },
  {
   "cell_type": "code",
   "execution_count": null,
   "metadata": {},
   "outputs": [],
   "source": []
  },
  {
   "cell_type": "markdown",
   "metadata": {},
   "source": [
    "Podemos somar uma lista com outra usando o **extend**:"
   ]
  },
  {
   "cell_type": "code",
   "execution_count": null,
   "metadata": {},
   "outputs": [],
   "source": []
  },
  {
   "cell_type": "markdown",
   "metadata": {},
   "source": [
    "Para passar uma lista inteira para outra, não podemos apenas atribuir com o =, pois assim a nova lista fará uma referencia a lista antiga, e, portanto, as mudaças feitas em uma afetarão a outra. Então devemos a usar a função **copy()**."
   ]
  },
  {
   "cell_type": "code",
   "execution_count": null,
   "metadata": {},
   "outputs": [],
   "source": []
  },
  {
   "cell_type": "code",
   "execution_count": null,
   "metadata": {},
   "outputs": [],
   "source": []
  },
  {
   "cell_type": "markdown",
   "metadata": {},
   "source": [
    "Para **remover um elemento da lista**, use a função \"remove()\". \n",
    "\n",
    "**OBS.: Essa função remove apenas a primeira aparição do elemento**."
   ]
  },
  {
   "cell_type": "code",
   "execution_count": null,
   "metadata": {},
   "outputs": [],
   "source": [
    "# removendo um elemento\n"
   ]
  },
  {
   "cell_type": "markdown",
   "metadata": {},
   "source": [
    "Se você quiser remover um elemento de determinado índice, use a função \"pop()\":"
   ]
  },
  {
   "cell_type": "code",
   "execution_count": null,
   "metadata": {},
   "outputs": [],
   "source": [
    "# removendo elemento pelo indice\n"
   ]
  },
  {
   "cell_type": "code",
   "execution_count": null,
   "metadata": {},
   "outputs": [],
   "source": []
  },
  {
   "cell_type": "markdown",
   "metadata": {},
   "source": [
    "Muitas vezes é interessante **ordenar a lista**. Pra fazer isso, usamos a função \"sorted\".\n",
    "\n",
    "**OBS: essa função só funciona para listas com o mesmo tipo de dado!**"
   ]
  },
  {
   "cell_type": "code",
   "execution_count": null,
   "metadata": {},
   "outputs": [],
   "source": []
  },
  {
   "cell_type": "code",
   "execution_count": null,
   "metadata": {},
   "outputs": [],
   "source": []
  },
  {
   "cell_type": "code",
   "execution_count": null,
   "metadata": {},
   "outputs": [],
   "source": [
    "# O que acontece com a lista?\n"
   ]
  },
  {
   "cell_type": "code",
   "execution_count": null,
   "metadata": {},
   "outputs": [],
   "source": []
  },
  {
   "cell_type": "code",
   "execution_count": null,
   "metadata": {},
   "outputs": [],
   "source": []
  },
  {
   "cell_type": "code",
   "execution_count": null,
   "metadata": {},
   "outputs": [],
   "source": [
    "# ordenando lista de strings: por ordem alfabética, segundo a tabela ascii\n"
   ]
  },
  {
   "cell_type": "markdown",
   "metadata": {},
   "source": [
    "Para **inverter a ordem dos elementos**, use a função **reverse()**"
   ]
  },
  {
   "cell_type": "code",
   "execution_count": null,
   "metadata": {},
   "outputs": [],
   "source": []
  },
  {
   "cell_type": "code",
   "execution_count": null,
   "metadata": {},
   "outputs": [],
   "source": []
  },
  {
   "cell_type": "markdown",
   "metadata": {},
   "source": [
    "Para ordenar uma lista na ordem inversa (maior pro menor), podemos adicionar o parâmetro a seguir:"
   ]
  },
  {
   "cell_type": "code",
   "execution_count": null,
   "metadata": {},
   "outputs": [],
   "source": [
    "# inverte a ordem\n",
    "\n"
   ]
  },
  {
   "cell_type": "code",
   "execution_count": null,
   "metadata": {},
   "outputs": [],
   "source": []
  },
  {
   "cell_type": "code",
   "execution_count": null,
   "metadata": {},
   "outputs": [],
   "source": []
  },
  {
   "cell_type": "code",
   "execution_count": null,
   "metadata": {},
   "outputs": [],
   "source": []
  },
  {
   "cell_type": "code",
   "execution_count": null,
   "metadata": {},
   "outputs": [],
   "source": []
  },
  {
   "cell_type": "markdown",
   "metadata": {},
   "source": [
    "Se quisermos saber **qual é a posição (índice) de determinado elemento**, usamos o método \".index()\".\n",
    "\n",
    "Este método retorna apenas a **primeira aparição** do elemento:"
   ]
  },
  {
   "cell_type": "code",
   "execution_count": null,
   "metadata": {},
   "outputs": [],
   "source": []
  },
  {
   "cell_type": "markdown",
   "metadata": {},
   "source": [
    "Por fim, podemos encontrar algumas **propriedades dos elementos da lista:**"
   ]
  },
  {
   "cell_type": "code",
   "execution_count": null,
   "metadata": {},
   "outputs": [],
   "source": []
  },
  {
   "cell_type": "markdown",
   "metadata": {},
   "source": [
    "Para somar todos os elementos da lista, use **sum()**:"
   ]
  },
  {
   "cell_type": "code",
   "execution_count": null,
   "metadata": {},
   "outputs": [],
   "source": []
  },
  {
   "cell_type": "markdown",
   "metadata": {},
   "source": [
    "Para encontrar o maior elemento, use \"max()\":"
   ]
  },
  {
   "cell_type": "code",
   "execution_count": null,
   "metadata": {},
   "outputs": [],
   "source": []
  },
  {
   "cell_type": "markdown",
   "metadata": {},
   "source": [
    "Para encontrar o menor elemento, use \"min()\":"
   ]
  },
  {
   "cell_type": "code",
   "execution_count": null,
   "metadata": {},
   "outputs": [],
   "source": []
  },
  {
   "cell_type": "markdown",
   "metadata": {},
   "source": [
    "Para encontrar o número de elementos (ou seja, qual é o \"tamanho\" da lista), use \"len()\":"
   ]
  },
  {
   "cell_type": "code",
   "execution_count": null,
   "metadata": {},
   "outputs": [],
   "source": []
  },
  {
   "cell_type": "markdown",
   "metadata": {},
   "source": [
    "Também vale para uma string:"
   ]
  },
  {
   "cell_type": "code",
   "execution_count": null,
   "metadata": {},
   "outputs": [],
   "source": []
  },
  {
   "cell_type": "markdown",
   "metadata": {},
   "source": [
    "Agora fica bem fácil encontrar a média dos números em uma lista:"
   ]
  },
  {
   "cell_type": "code",
   "execution_count": null,
   "metadata": {},
   "outputs": [],
   "source": [
    "\n",
    "\n",
    "#Calculando a média:\n"
   ]
  },
  {
   "cell_type": "markdown",
   "metadata": {},
   "source": [
    "## **Resolvendo o desafio:**"
   ]
  },
  {
   "cell_type": "code",
   "execution_count": null,
   "metadata": {},
   "outputs": [],
   "source": [
    "#Você foi contratado para desenvolver um programa em Python que calcula a média de uma quantidade desconhecida de valores inseridos pelo usuário. \n",
    "#O programa deve incluir a identificação do maior e do menor valor dentre as notas inseridas.\n"
   ]
  },
  {
   "cell_type": "markdown",
   "metadata": {},
   "source": [
    "## Exercícios"
   ]
  },
  {
   "cell_type": "markdown",
   "metadata": {},
   "source": [
    "1) Crie uma lista com os números de 1 a 10 e exiba apenas os números pares."
   ]
  },
  {
   "cell_type": "code",
   "execution_count": null,
   "metadata": {},
   "outputs": [],
   "source": [
    "lista = list(range(1, 11))\n",
    "lista_pares = []\n",
    "for i in lista:\n",
    "    if i % 2 == 0:\n",
    "        lista_pares.append(i)\n",
    "print(lista_pares)"
   ]
  },
  {
   "cell_type": "code",
   "execution_count": null,
   "metadata": {},
   "outputs": [],
   "source": []
  },
  {
   "cell_type": "markdown",
   "metadata": {},
   "source": [
    "2) Dada a lista de palavras, crie uma nova lista contendo o comprimento de cada palavra."
   ]
  },
  {
   "cell_type": "code",
   "execution_count": null,
   "metadata": {},
   "outputs": [],
   "source": [
    "lista_palavras = input(\"Digite uma lista de palavras separadas por virgulas:\").split(\",\")\n",
    "\n",
    "lista_palavras_compimentos = [len(palavra) for palavra in lista_palavras]\n",
    "print(lista_palavras)\n",
    "print(lista_palavras_compimentos)"
   ]
  },
  {
   "cell_type": "markdown",
   "metadata": {},
   "source": [
    "3) Dada uma lista encadeada de caracteres formada por uma sequência alternada de letras \n",
    "e dígitos, construa um método que retorne uma lista na qual as letras são mantidas na \n",
    "sequência original e os dígitos são colocados na ordem inversa. Exemplos:\n",
    "\n",
    "Lista = ['B', 2, 'G', 4, W, 8, X, -1, H]\n",
    "\n",
    "Resultado esperado: [B, G, W, X, H, -1, 8, 4, 2]"
   ]
  },
  {
   "cell_type": "code",
   "execution_count": null,
   "metadata": {},
   "outputs": [],
   "source": [
    "Lista = ['B', 2, 'G', 4, \"W\", 8, \"X\", -1, \"H\"]\n",
    "\n",
    "lista_letas = []\n",
    "lista_numeros = []\n",
    "\n",
    "for i in Lista:\n",
    "    if type(i) == str:\n",
    "        lista_letas.append(i)\n",
    "    elif type(i) == int:\n",
    "        lista_numeros.append(i)\n",
    "\n",
    "lista_numeros.reverse()\n",
    "\n",
    "print(lista_letas+lista_numeros)"
   ]
  },
  {
   "cell_type": "markdown",
   "metadata": {},
   "source": [
    "4) Escreva um programa Python para imprimir uma lista especificada depois de remover o 0º, 4º e 5º elementos."
   ]
  },
  {
   "cell_type": "code",
   "execution_count": null,
   "metadata": {},
   "outputs": [],
   "source": [
    "\n",
    "for i in range(100, 500, 1):\n",
    "    valor = str(i)\n",
    "    dig1 = int(valor[0])**3\n",
    "    dig2 = int(valor[1])**3\n",
    "    dig3 = int(valor[2])**3\n",
    "    soma = dig1 + dig2 + dig3\n",
    "\n",
    "    if soma == i:\n",
    "        print(i)"
   ]
  },
  {
   "cell_type": "markdown",
   "metadata": {},
   "source": [
    "5) Faça um algoritmo que recebe uma lista encadeada de números inteiros e retorna uma \n",
    "lista sem repetições, ou seja, uma lista onde cada número apareça apenas uma vez.\n",
    "\n",
    "Lista = [10, 5, -3, 2, 9, 1, 10, 3, 1]\n",
    "\n",
    "Saída esperada: [10, 5, -3, 2, 9, 1, 3]"
   ]
  },
  {
   "cell_type": "code",
   "execution_count": null,
   "metadata": {},
   "outputs": [],
   "source": [
    "lista = input(\"Digite uma lista separadas por virgulas:\").split(\",\")\n",
    "apareceram = []\n",
    "nnao_repetidas = []\n",
    "\n",
    "for i in range(len(lista)):\n",
    "    if lista[i] not in apareceram:\n",
    "        nnao_repetidas.append(lista[i])\n",
    "        apareceram.append(lista[i])\n",
    "\n",
    "print(lista)\n",
    "    \n",
    "print(nnao_repetidas)"
   ]
  },
  {
   "cell_type": "code",
   "execution_count": null,
   "metadata": {},
   "outputs": [],
   "source": []
  }
 ],
 "metadata": {
  "kernelspec": {
   "display_name": "Python 3",
   "language": "python",
   "name": "python3"
  },
  "language_info": {
   "codemirror_mode": {
    "name": "ipython",
    "version": 3
   },
   "file_extension": ".py",
   "mimetype": "text/x-python",
   "name": "python",
   "nbconvert_exporter": "python",
   "pygments_lexer": "ipython3",
   "version": "3.11.4"
  }
 },
 "nbformat": 4,
 "nbformat_minor": 2
}
